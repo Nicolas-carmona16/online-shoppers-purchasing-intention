{
 "cells": [
  {
   "cell_type": "code",
   "execution_count": null,
   "id": "cd4e628b",
   "metadata": {},
   "outputs": [],
   "source": [
    "# Instala ucimlrepo en el kernel del notebook\n",
    "%pip install --quiet ucimlrepo\n",
    "\n",
    "# Importar y verificar instalación (muestra versión)\n",
    "import ucimlrepo\n",
    "try:\n",
    "    print(\"ucimlrepo version:\", ucimlrepo.__version__)\n",
    "except Exception:\n",
    "    import importlib.metadata as md\n",
    "    print(\"ucimlrepo version:\", md.version(\"ucimlrepo\"))"
   ]
  },
  {
   "cell_type": "code",
   "execution_count": null,
   "id": "4fee66fd",
   "metadata": {},
   "outputs": [],
   "source": [
    "pip install ucimlrepo"
   ]
  }
 ],
 "metadata": {
  "language_info": {
   "name": "python"
  }
 },
 "nbformat": 4,
 "nbformat_minor": 5
}
